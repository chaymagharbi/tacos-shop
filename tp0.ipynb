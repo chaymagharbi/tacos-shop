{
  "nbformat": 4,
  "nbformat_minor": 0,
  "metadata": {
    "colab": {
      "provenance": [],
      "authorship_tag": "ABX9TyOswoRu+LqTUyLDSQtI2OaR",
      "include_colab_link": true
    },
    "kernelspec": {
      "name": "python3",
      "display_name": "Python 3"
    },
    "language_info": {
      "name": "python"
    }
  },
  "cells": [
    {
      "cell_type": "markdown",
      "metadata": {
        "id": "view-in-github",
        "colab_type": "text"
      },
      "source": [
        "<a href=\"https://colab.research.google.com/github/chaymagharbi/tacos-shop/blob/main/tp0.ipynb\" target=\"_parent\"><img src=\"https://colab.research.google.com/assets/colab-badge.svg\" alt=\"Open In Colab\"/></a>"
      ]
    },
    {
      "cell_type": "code",
      "execution_count": null,
      "metadata": {
        "colab": {
          "base_uri": "https://localhost:8080/"
        },
        "id": "_pJdxvF5VRTb",
        "outputId": "d28d558c-e73c-4c58-d0e9-6a19465a7fb5"
      },
      "outputs": [
        {
          "output_type": "stream",
          "name": "stdout",
          "text": [
            "-10\n",
            "-9\n",
            "-8\n",
            "-7\n",
            "-6\n",
            "-5\n",
            "-4\n",
            "-3\n",
            "-2\n",
            "-1\n"
          ]
        }
      ],
      "source": [
        "for i in range(-10,0):\n",
        "    print(i)"
      ]
    },
    {
      "cell_type": "code",
      "source": [
        "s=0\n",
        "a=input(\"donner un nombre:\")\n",
        "l=len(a)\n",
        "for i in range(l):\n",
        " s = s + int(a[i])\n",
        "print(\"la somme=\",s)\n"
      ],
      "metadata": {
        "colab": {
          "base_uri": "https://localhost:8080/"
        },
        "id": "PgxOsyitW6Av",
        "outputId": "145c9c0a-f6bd-4b11-c06b-728990d00466"
      },
      "execution_count": 15,
      "outputs": [
        {
          "output_type": "stream",
          "name": "stdout",
          "text": [
            "donner un nombre:75869\n",
            "la somme= 35\n"
          ]
        }
      ]
    },
    {
      "cell_type": "code",
      "source": [
        "def cube(n):\n",
        "    return n ** 3\n",
        "n = int(input(\"Donner un nombre : \"))\n",
        "print(n,\"au cube=\",cube(n))\n"
      ],
      "metadata": {
        "colab": {
          "base_uri": "https://localhost:8080/"
        },
        "id": "LU5_CELece0v",
        "outputId": "d33de03f-30a3-4df9-e002-c79facccbcb1"
      },
      "execution_count": 22,
      "outputs": [
        {
          "output_type": "stream",
          "name": "stdout",
          "text": [
            "Donner un nombre : 5\n",
            "5 **3= 125\n"
          ]
        }
      ]
    },
    {
      "cell_type": "code",
      "source": [
        "def f(n):\n",
        "    if len(n) == 0:\n",
        "        return False\n",
        "    return n[0] == n[-1]\n",
        "\n",
        "l = []\n",
        "n = int(input(\"donner longueur de l:\"))\n",
        "for i in range(n):\n",
        "    num = int(input(\"Entrez un nombre: \"))\n",
        "    l.append(num)\n",
        "print(f(l2))\n"
      ],
      "metadata": {
        "colab": {
          "base_uri": "https://localhost:8080/"
        },
        "id": "AkrcogDkdr8T",
        "outputId": "285cb021-7906-449e-ab80-0e69fdd2780b"
      },
      "execution_count": 28,
      "outputs": [
        {
          "output_type": "stream",
          "name": "stdout",
          "text": [
            "donner longueur de l:3\n",
            "Entrez un nombre: 1\n",
            "Entrez un nombre: 2\n",
            "Entrez un nombre: 1\n",
            "True\n"
          ]
        }
      ]
    },
    {
      "cell_type": "code",
      "source": [
        "def occurrences(l):\n",
        "    dict1 = {}\n",
        "\n",
        "    for num in l:\n",
        "        if num in dict1:\n",
        "            dict1[num] += 1\n",
        "        else:\n",
        "            dict1[num] = 1\n",
        "\n",
        "    return dict1\n",
        "\n",
        "\n",
        "il = [11, 45, 8, 11, 23, 45, 23, 45, 89]\n",
        "r = occurrences(il)\n",
        "print(r)\n"
      ],
      "metadata": {
        "colab": {
          "base_uri": "https://localhost:8080/"
        },
        "id": "pE0iiUDwgWgo",
        "outputId": "e21909d0-d714-4466-9159-cee8903b9ef2"
      },
      "execution_count": 30,
      "outputs": [
        {
          "output_type": "stream",
          "name": "stdout",
          "text": [
            "{11: 2, 45: 3, 8: 1, 23: 2, 89: 1}\n"
          ]
        }
      ]
    },
    {
      "cell_type": "code",
      "source": [
        "def m(l1, l2):\n",
        "    nl = []\n",
        "    for num in l1:\n",
        "        if num % 2 != 0:\n",
        "            nl.append(num)\n",
        "\n",
        "    for num in l2:\n",
        "        if num % 2 == 0:\n",
        "            nl.append(num)\n",
        "\n",
        "    return nl\n",
        "\n",
        "l1 = [10, 20, 23, 11, 17]\n",
        "l2 = [13, 43, 24, 36, 12]\n",
        "result = m(l1, l2)\n",
        "\n",
        "print(result)\n"
      ],
      "metadata": {
        "colab": {
          "base_uri": "https://localhost:8080/"
        },
        "id": "eY4_XQyjhFcr",
        "outputId": "56686e53-7586-49bc-8ff0-5ca0d7d4e785"
      },
      "execution_count": 31,
      "outputs": [
        {
          "output_type": "stream",
          "name": "stdout",
          "text": [
            "[23, 11, 17, 24, 36, 12]\n"
          ]
        }
      ]
    }
  ]
}